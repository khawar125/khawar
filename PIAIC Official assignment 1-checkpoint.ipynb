{
 "cells": [
  {
   "cell_type": "markdown",
   "metadata": {},
   "source": [
    "## 1. Calculate Area of a Circle"
   ]
  },
  {
   "cell_type": "markdown",
   "metadata": {},
   "source": [
    "#### Write a Python program which accepts the radius of a circle from the user and compute the area.\n",
    "###### Program Console Sample Output 1:\n",
    "###### Input Radius: 0.5\n",
    "###### Area of Circle with radius 0.5 is 0.7853981634"
   ]
  },
  {
   "cell_type": "code",
   "execution_count": 15,
   "metadata": {},
   "outputs": [
    {
     "name": "stdout",
     "output_type": "stream",
     "text": [
      "Input the radius of the circle : 3\n",
      "The area of the circle with radius 3.0 is: 28.274333882308138\n"
     ]
    }
   ],
   "source": [
    "from math import pi\n",
    "r = float(input (\"Input the radius of the circle : \"))\n",
    "print (\"The area of the circle with radius \" + str(r) + \" is: \" + str(pi * r**2))\n"
   ]
  },
  {
   "cell_type": "code",
   "execution_count": 16,
   "metadata": {},
   "outputs": [
    {
     "name": "stdout",
     "output_type": "stream",
     "text": [
      "Input the radius of the circle : 5\n",
      "The area of the circle with radius 5.0 is: 78.53981633974483\n"
     ]
    }
   ],
   "source": [
    "from math import pi\n",
    "r = float(input (\"Input the radius of the circle : \"))\n",
    "print (\"The area of the circle with radius \" + str(r) + \" is: \" + str(pi * r**2))\n"
   ]
  },
  {
   "cell_type": "markdown",
   "metadata": {},
   "source": [
    "## 2. Check Number either positive, negative or zero"
   ]
  },
  {
   "cell_type": "markdown",
   "metadata": {},
   "source": [
    "#### Write a Python program to check if a number is positive, negative or zero\n",
    "###### Program Console Sample Output 1:\n",
    "###### Enter Number: -1\n",
    "##### Negative Number Entered\n",
    "###### Program Console Sample Output 2:\n",
    "##### Integer: 3\n",
    "##### Positive Number Entered\n",
    "###### Program Console Sample Output 3:\n",
    "##### Integer: 0\n",
    "###### Zero Entered"
   ]
  },
  {
   "cell_type": "code",
   "execution_count": 3,
   "metadata": {},
   "outputs": [
    {
     "name": "stdout",
     "output_type": "stream",
     "text": [
      "enter a number3\n",
      "entered number is positive\n"
     ]
    }
   ],
   "source": [
    "number=int(input(\"enter a number\"))\n",
    "if number > 0:\n",
    "    print(\"entered number is positive\")\n",
    "if number == 0:\n",
    "    print(\"entered number is zero\")\n",
    "if number < 0:\n",
    "    print(\"entered number is negative\")\n",
    "    "
   ]
  },
  {
   "cell_type": "code",
   "execution_count": 18,
   "metadata": {},
   "outputs": [
    {
     "name": "stdout",
     "output_type": "stream",
     "text": [
      "enter a number-5\n",
      "entered number is negative\n"
     ]
    }
   ],
   "source": [
    "number=int(input(\"enter a number\"))\n",
    "if number > 0:\n",
    "    print(\"entered number is positive\")\n",
    "if number == 0:\n",
    "    print(\"entered number is zero\")\n",
    "if number < 0:\n",
    "    print(\"entered number is negative\")\n",
    "    "
   ]
  },
  {
   "cell_type": "code",
   "execution_count": 19,
   "metadata": {},
   "outputs": [
    {
     "name": "stdout",
     "output_type": "stream",
     "text": [
      "enter a number0\n",
      "entered number is zero\n"
     ]
    }
   ],
   "source": [
    "number=int(input(\"enter a number\"))\n",
    "if number > 0:\n",
    "    print(\"entered number is positive\")\n",
    "if number == 0:\n",
    "    print(\"entered number is zero\")\n",
    "if number < 0:\n",
    "    print(\"entered number is negative\")\n",
    "    "
   ]
  },
  {
   "cell_type": "markdown",
   "metadata": {},
   "source": [
    "## 3. Divisibility Check of two numbers"
   ]
  },
  {
   "cell_type": "markdown",
   "metadata": {},
   "source": [
    "#### Write a Python program to check whether a number is completely divisible by another number. Accept two integer values form the user\n",
    "##### Program Console Sample Output 1:\n",
    "###### Enter numerator: 4\n",
    "###### Enter Denominator: 2\n",
    "##### Number 4 is Completely divisible by 2\n",
    "###### Program Console Sample Output 2:\n",
    "##### Enter numerator: 7\n",
    "\n",
    "##### Enter Denominator: 4\n",
    "###### Number 7 is not Completely divisible by 4"
   ]
  },
  {
   "cell_type": "code",
   "execution_count": 24,
   "metadata": {},
   "outputs": [
    {
     "name": "stdout",
     "output_type": "stream",
     "text": [
      "enter numerator5\n",
      "enter denomenator6\n",
      "num is not completely divisible by den\n"
     ]
    }
   ],
   "source": [
    "num=int(input(\"enter numerator\"))\n",
    "den=int(input(\"enter denomenator\"))\n",
    "\n",
    "if num%den==0:\n",
    "    print(\"num is completely divisible by den\")\n",
    "else: \n",
    "    print(\"num is not completely divisible by den\")"
   ]
  },
  {
   "cell_type": "code",
   "execution_count": 25,
   "metadata": {},
   "outputs": [
    {
     "name": "stdout",
     "output_type": "stream",
     "text": [
      "enter numerator7\n",
      "enter denomenator5\n",
      "num is not completely divisible by den\n"
     ]
    }
   ],
   "source": [
    "num=int(input(\"enter numerator\"))\n",
    "den=int(input(\"enter denomenator\"))\n",
    "\n",
    "if num%den==0:\n",
    "    print(\"num is completely divisible by den\")\n",
    "else: \n",
    "    print(\"num is not completely divisible by den\")"
   ]
  },
  {
   "cell_type": "markdown",
   "metadata": {},
   "source": [
    "## 4. Calculate Volume of a sphere"
   ]
  },
  {
   "cell_type": "markdown",
   "metadata": {},
   "source": [
    "##### Write a Python program to get the volume of a sphere, please take the radius as input from user"
   ]
  },
  {
   "cell_type": "markdown",
   "metadata": {},
   "source": [
    "##### Program Console Output:\n",
    "##### Enter Radius of Sphere: 1\n",
    "###### Volume of the Sphere with Radius 1 is 4.18"
   ]
  },
  {
   "cell_type": "code",
   "execution_count": 28,
   "metadata": {},
   "outputs": [
    {
     "name": "stdout",
     "output_type": "stream",
     "text": [
      "Input the radius of the sphere : 8\n",
      "The area of the sphere with radius 8.0 is: 2144.660584850632\n"
     ]
    }
   ],
   "source": [
    "from math import pi\n",
    "r = float(input (\"Input the radius of the sphere : \"))\n",
    "print (\"The area of the sphere with radius \" + str(r) + \" is: \" + str(4/3*pi*r**3))\n"
   ]
  },
  {
   "cell_type": "code",
   "execution_count": 29,
   "metadata": {},
   "outputs": [
    {
     "name": "stdout",
     "output_type": "stream",
     "text": [
      "Input the radius of the sphere : 99\n",
      "The area of the sphere with radius 99.0 is: 4064378.94691403\n"
     ]
    }
   ],
   "source": [
    "from math import pi\n",
    "r = float(input (\"Input the radius of the sphere : \"))\n",
    "print (\"The area of the sphere with radius \" + str(r) + \" is: \" + str(4/3*pi*r**3))\n"
   ]
  },
  {
   "cell_type": "markdown",
   "metadata": {},
   "source": [
    "## 5. Copy string n times\n",
    "#### Write a Python program to get a string which is n (non-negative integer) copies of a given string.\n",
    "##### Program Console Output:\n",
    "##### Enter String: Hi\n",
    "###### How many copies of String you need: 4\n",
    "###### 4 Copies of Hi are HiHiHiHi"
   ]
  },
  {
   "cell_type": "code",
   "execution_count": 32,
   "metadata": {},
   "outputs": [
    {
     "name": "stdout",
     "output_type": "stream",
     "text": [
      "Enter String: us\n",
      "How many copies of string you need: 4\n",
      "4 Copies of us are usususus\n"
     ]
    }
   ],
   "source": [
    "string=input(\"Enter String: \")\n",
    "n=int(input(\"How many copies of string you need: \"))\n",
    "print(f\"{n} Copies of {string} are {n*string}\")"
   ]
  },
  {
   "cell_type": "code",
   "execution_count": 33,
   "metadata": {},
   "outputs": [
    {
     "name": "stdout",
     "output_type": "stream",
     "text": [
      "Enter String: yj\n",
      "How many copies of string you need: 6\n",
      "6 Copies of yj are yjyjyjyjyjyj\n"
     ]
    }
   ],
   "source": [
    "string=input(\"Enter String: \")\n",
    "n=int(input(\"How many copies of string you need: \"))\n",
    "print(f\"{n} Copies of {string} are {n*string}\")"
   ]
  },
  {
   "cell_type": "markdown",
   "metadata": {},
   "source": [
    "## 6. Check if number is Even or Odd\n",
    "### Write a Python program to find whether a given number (accept from the user) is even or odd, print out an appropriate message to the user\n",
    "#### Program Console Output 1:\n",
    "##### Enter Number: 4\n",
    "###### 4 is Even\n",
    "#### Program Console Output 2:\n",
    "##### Enter Number: 9\n",
    "###### 9 is Odd"
   ]
  },
  {
   "cell_type": "code",
   "execution_count": 35,
   "metadata": {},
   "outputs": [
    {
     "name": "stdout",
     "output_type": "stream",
     "text": [
      "enter a number5\n",
      "Given number which is 5 is odd\n"
     ]
    }
   ],
   "source": [
    "number=int(input(\"enter a number\"))\n",
    "if number%2 == 0:\n",
    "    print(f\"Given number which is {number} is even\")\n",
    "else:\n",
    "    print(f\"Given number which is {number} is odd\")"
   ]
  },
  {
   "cell_type": "code",
   "execution_count": 36,
   "metadata": {},
   "outputs": [
    {
     "name": "stdout",
     "output_type": "stream",
     "text": [
      "enter a number66\n",
      "Given number which is 66 is even\n"
     ]
    }
   ],
   "source": [
    "number=int(input(\"enter a number\"))\n",
    "if number%2 == 0:\n",
    "    print(f\"Given number which is {number} is even\")\n",
    "else:\n",
    "    print(f\"Given number which is {number} is odd\")"
   ]
  },
  {
   "cell_type": "code",
   "execution_count": 37,
   "metadata": {},
   "outputs": [
    {
     "name": "stdout",
     "output_type": "stream",
     "text": [
      "enter a number3\n",
      "Given number which is 3 is odd\n"
     ]
    }
   ],
   "source": [
    "number=int(input(\"enter a number\"))\n",
    "if number%2 == 0:\n",
    "    print(f\"Given number which is {number} is even\")\n",
    "else:\n",
    "    print(f\"Given number which is {number} is odd\")"
   ]
  },
  {
   "cell_type": "markdown",
   "metadata": {},
   "source": [
    "## 7. Vowel Tester\n",
    "### Write a Python program to test whether a passed letter is a vowel or not\n",
    "#### Program Console Output 1:\n",
    "##### Enter a character: A\n",
    "###### Letter A is Vowel\n",
    "#### Program Console Output 2:\n",
    "##### Enter a character: e\n",
    "###### Letter e is Vowel\n",
    "#### Program Console Output 2:\n",
    "##### Enter a character: N\n",
    "###### Letter N is not Vowel"
   ]
  },
  {
   "cell_type": "code",
   "execution_count": 40,
   "metadata": {},
   "outputs": [
    {
     "name": "stdout",
     "output_type": "stream",
     "text": [
      "enter a characterf\n",
      "character f is NOT VOVEL\n"
     ]
    }
   ],
   "source": [
    "char=input(\"enter a character\")\n",
    "if (char == 'A' or char == 'a') or (char == 'E' or char == 'e') or (char == 'I' or char == 'i') or (char == 'O' or char == 'o') or (char == 'U' or char == 'u'):\n",
    "     print(f\"character {char} is VOVEL\")\n",
    "else:\n",
    "    print(f\"character {char} is NOT VOVEL\")\n",
    "\n",
    "    "
   ]
  },
  {
   "cell_type": "markdown",
   "metadata": {},
   "source": [
    "## 8. Triangle area\n",
    "### Write a Python program that will accept the base and height of a triangle and compute the area\n",
    "###### Reference:\n",
    "https://www.mathgoodies.com/lessons/vol1/area_triangle"
   ]
  },
  {
   "cell_type": "code",
   "execution_count": 42,
   "metadata": {},
   "outputs": [
    {
     "name": "stdout",
     "output_type": "stream",
     "text": [
      "enter the base of triangle5\n",
      "enter the height of triangle5\n",
      "the area of triangle with base5.0 and 5.0 is: 12.5\n"
     ]
    }
   ],
   "source": [
    "base=float(input(\"enter the base of triangle\"))\n",
    "height=float(input(\"enter the height of triangle\"))\n",
    "print(\"the area of triangle with base\"+ str(base) +\" and \"+ str(height) +\" is: \"+ str(1/2*base*height))\n"
   ]
  },
  {
   "cell_type": "markdown",
   "metadata": {},
   "source": [
    "## 9. Calculate Interest\n",
    "### Write a Python program to compute the future value of a specified principal amount, rate of interest, and a number of years\n",
    "#### Program Console Sample 1:\n",
    "##### Please enter principal amount: 10000\n",
    "###### Please Enter Rate of interest in %: 0.1\n",
    "###### Enter number of years for investment: 5\n",
    "###### After 5 years your principal amount 10000 over an interest rate of 0.1 % will be 16105.1"
   ]
  },
  {
   "cell_type": "code",
   "execution_count": 47,
   "metadata": {},
   "outputs": [
    {
     "name": "stdout",
     "output_type": "stream",
     "text": [
      "Please enter principal amount: 44\n",
      "Please Enter Rate of interest in %: 3\n",
      "Enter number of years for investment: 5\n",
      "After 5  years your principal ammount 44 over an interest rate of 3.0% will be 45056.0\n"
     ]
    }
   ],
   "source": [
    "amount=int(input(\"Please enter principal amount: \"))\n",
    "interest=float(input(\"Please Enter Rate of interest in %: \"))\n",
    "years=int(input(\"Enter number of years for investment: \"))\n",
    "future_value=amount*((1+(interest))**years)\n",
    "print(f\"After {years}  years your principal ammount {amount} over an interest rate of {interest}% will be {round(future_value,2)}\")"
   ]
  },
  {
   "cell_type": "code",
   "execution_count": 48,
   "metadata": {},
   "outputs": [
    {
     "name": "stdout",
     "output_type": "stream",
     "text": [
      "Please enter principal amount: 33333\n",
      "Please Enter Rate of interest in %: 4\n",
      "Enter number of years for investment: 3\n",
      "After 3  years your principal ammount 33333 over an interest rate of 4.0% will be 4166625.0\n"
     ]
    }
   ],
   "source": [
    "amount=int(input(\"Please enter principal amount: \"))\n",
    "interest=float(input(\"Please Enter Rate of interest in %: \"))\n",
    "years=int(input(\"Enter number of years for investment: \"))\n",
    "future_value=amount*((1+(interest))**years)\n",
    "print(f\"After {years}  years your principal ammount {amount} over an interest rate of {interest}% will be {round(future_value,2)}\")"
   ]
  },
  {
   "cell_type": "markdown",
   "metadata": {},
   "source": [
    "## 10. Euclidean distance\n",
    "### write a Python program to compute the distance between the points (x1, y1) and (x2, y2).\n",
    "#### Program Console Sample 1:\n",
    "###### Enter Co-ordinate for x1: 2\n",
    "###### Enter Co-ordinate for x2: 4\n",
    "###### Enter Co-ordinate for y1: 4\n",
    "###### Enter Co-ordinate for y2: 4\n",
    "###### Distance between points (2, 4) and (4, 4) is 2"
   ]
  },
  {
   "cell_type": "markdown",
   "metadata": {},
   "source": [
    "###### Reference:\n",
    "https://en.wikipedia.org/wiki/Euclidean_distance"
   ]
  },
  {
   "cell_type": "code",
   "execution_count": 51,
   "metadata": {},
   "outputs": [
    {
     "name": "stdout",
     "output_type": "stream",
     "text": [
      "Input co-ordinate for x1: 4\n",
      "Input co-ordinate for x2: 3\n",
      "Input co-ordinate for y1: 5\n",
      "Input co-ordinate for y2: 6\n",
      "Distance between points (4, 3) and (5, 6) is 1.4142135623730951\n"
     ]
    }
   ],
   "source": [
    "x1=int(input(\"Input co-ordinate for x1: \"))\n",
    "x2=int(input(\"Input co-ordinate for x2: \"))\n",
    "y1=int(input(\"Input co-ordinate for y1: \"))\n",
    "y2=int(input(\"Input co-ordinate for y2: \"))\n",
    "sqr=(x2-x1)**(2)+(y2-y1)**(2)\n",
    "distance=sqr**(0.5)\n",
    "print(f\"Distance between points {x1,x2} and {y1,y2} is {distance}\")"
   ]
  },
  {
   "cell_type": "markdown",
   "metadata": {},
   "source": [
    "#### 11. Feet to Centimeter Converter\n",
    "### Write a Python program to convert height in feet to centimetres.\n",
    "##### Program Console Sample 1:\n",
    "###### Enter Height in Feet: 5\n",
    "###### There are 152.4 Cm in 5 ft\n",
    "Reference:\n",
    "https://www.rapidtables.com/convert/length/feet-to-cm.html"
   ]
  },
  {
   "cell_type": "code",
   "execution_count": 53,
   "metadata": {},
   "outputs": [
    {
     "name": "stdout",
     "output_type": "stream",
     "text": [
      "Enter Height in Feet: 55\n",
      "There are 1676.4 cm in 55.0 ft\n"
     ]
    }
   ],
   "source": [
    "height_ft=float(input(\"Enter Height in Feet: \"))\n",
    "height_cm=height_ft*30.48     #converting feet to centimeter\n",
    "print(f\"There are {height_cm} cm in {height_ft} ft\")"
   ]
  },
  {
   "cell_type": "code",
   "execution_count": 54,
   "metadata": {},
   "outputs": [
    {
     "name": "stdout",
     "output_type": "stream",
     "text": [
      "Enter Height in Feet: 130\n",
      "There are 3962.4 cm in 130.0 ft\n"
     ]
    }
   ],
   "source": [
    "height_ft=float(input(\"Enter Height in Feet: \"))\n",
    "height_cm=height_ft*30.48     #converting feet to centimeter\n",
    "print(f\"There are {height_cm} cm in {height_ft} ft\")"
   ]
  },
  {
   "cell_type": "markdown",
   "metadata": {},
   "source": [
    "## 12. BMI Calculator\n",
    "### Write a Python program to calculate body mass index\n",
    "##### Program Console Sample 1:\n",
    "###### Enter Height in Cm: 180\n",
    "###### Enter Weight in Kg: 75\n",
    "###### Your BMI is 23.15"
   ]
  },
  {
   "cell_type": "code",
   "execution_count": 57,
   "metadata": {},
   "outputs": [
    {
     "name": "stdout",
     "output_type": "stream",
     "text": [
      "Enter Height: 22\n",
      "Enter Weight in Kg: 34\n",
      "Your BMI is 702.4793388429753\n"
     ]
    }
   ],
   "source": [
    "height_cm=int(input(\"Enter Height: \"))\n",
    "weight=int(input(\"Enter Weight in Kg: \"))\n",
    "height_m=height_cm*0.01        #converting meter to centimeter\n",
    "bmi=weight/height_m**(2)\n",
    "print(f\"Your BMI is {bmi}\")\n"
   ]
  },
  {
   "cell_type": "markdown",
   "metadata": {},
   "source": [
    "## 13. Sum of n Positive Integers\n",
    "### Write a python program to sum of the first n positive integers\n",
    "#### Program Console Sample 1:\n",
    "###### Enter value of n: 5\n",
    "###### Sum of n Positive integers till 5 is 15"
   ]
  },
  {
   "cell_type": "code",
   "execution_count": 58,
   "metadata": {},
   "outputs": [
    {
     "name": "stdout",
     "output_type": "stream",
     "text": [
      "Input a number: 3\n",
      "Sum of n positive integers till 3 is 6.0\n"
     ]
    }
   ],
   "source": [
    "n = int(input(\"Input a number: \"))\n",
    "sum_num = (n * (n + 1)) / 2\n",
    "print(f\"Sum of n positive integers till {n} is {sum_num}\")"
   ]
  },
  {
   "cell_type": "code",
   "execution_count": 59,
   "metadata": {},
   "outputs": [
    {
     "name": "stdout",
     "output_type": "stream",
     "text": [
      "Input a number: 5\n",
      "Sum of n positive integers till 5 is 15.0\n"
     ]
    }
   ],
   "source": [
    "n = int(input(\"Input a number: \"))\n",
    "sum_num = (n * (n + 1)) / 2\n",
    "print(f\"Sum of n positive integers till {n} is {sum_num}\")"
   ]
  },
  {
   "cell_type": "code",
   "execution_count": 60,
   "metadata": {},
   "outputs": [
    {
     "name": "stdout",
     "output_type": "stream",
     "text": [
      "Input a number: 66\n",
      "Sum of n positive integers till 66 is 2211.0\n"
     ]
    }
   ],
   "source": [
    "n = int(input(\"Input a number: \"))\n",
    "sum_num = (n * (n + 1)) / 2\n",
    "print(f\"Sum of n positive integers till {n} is {sum_num}\")"
   ]
  },
  {
   "cell_type": "markdown",
   "metadata": {},
   "source": [
    "## 14. Digits Sum of a Number\n",
    "### Write a Python program to calculate the sum of the digits in an integer\n",
    "#### Program Console Sample 1:\n",
    "##### Enter a number: 15\n",
    "###### Sum of 1 + 5 is 6\n",
    "#### Program Console Sample 2:\n",
    "##### Enter a number: 1234\n",
    "###### Sum of 1 + 2 + 3 + 4 is 10"
   ]
  },
  {
   "cell_type": "code",
   "execution_count": 65,
   "metadata": {},
   "outputs": [
    {
     "name": "stdout",
     "output_type": "stream",
     "text": [
      "Enter a number: 3\n",
      "Sum of 0 0 0 3 is 3\n"
     ]
    }
   ],
   "source": [
    "num=int(input(\"Enter a number: \"))\n",
    "x=num//1000\n",
    "x1=(num-x*1000)//100\n",
    "x2=(num-x*1000-x1*100)//10\n",
    "x3=num-x*1000-x1*100-x2*10\n",
    "print(f\"Sum of {x} {x1} {x2} {x3} is {x+x1+x2+x3}\")"
   ]
  },
  {
   "cell_type": "code",
   "execution_count": 66,
   "metadata": {},
   "outputs": [
    {
     "name": "stdout",
     "output_type": "stream",
     "text": [
      "Enter a number: 2\n",
      "Sum of 0 0 0 2 is 2\n"
     ]
    }
   ],
   "source": [
    "num=int(input(\"Enter a number: \"))\n",
    "x=num//1000\n",
    "x1=(num-x*1000)//100\n",
    "x2=(num-x*1000-x1*100)//10\n",
    "x3=num-x*1000-x1*100-x2*10\n",
    "print(f\"Sum of {x} {x1} {x2} {x3} is {x+x1+x2+x3}\")"
   ]
  },
  {
   "cell_type": "code",
   "execution_count": 69,
   "metadata": {},
   "outputs": [
    {
     "name": "stdout",
     "output_type": "stream",
     "text": [
      "Enter a number: 66\n",
      "Sum of 0 0 6 6 is 12\n"
     ]
    }
   ],
   "source": [
    "num=int(input(\"Enter a number: \"))\n",
    "x=num//1000\n",
    "x1=(num-x*1000)//100\n",
    "x2=(num-x*1000-x1*100)//10\n",
    "x3=num-x*1000-x1*100-x2*10\n",
    "print(f\"Sum of {x} {x1} {x2} {x3} is {x+x1+x2+x3}\")"
   ]
  },
  {
   "cell_type": "code",
   "execution_count": null,
   "metadata": {},
   "outputs": [],
   "source": [
    "num=int(input(\"Enter a number: \"))\n",
    "x=num//1000\n",
    "x1=(num-x*1000)//100\n",
    "x2=(num-x*1000-x1*100)//10\n",
    "x3=num-x*1000-x1*100-x2*10\n",
    "print(f\"Sum of {x} {x1} {x2} {x3} is {x+x1+x2+x3}\")"
   ]
  }
 ],
 "metadata": {
  "kernelspec": {
   "display_name": "Python 3",
   "language": "python",
   "name": "python3"
  },
  "language_info": {
   "codemirror_mode": {
    "name": "ipython",
    "version": 3
   },
   "file_extension": ".py",
   "mimetype": "text/x-python",
   "name": "python",
   "nbconvert_exporter": "python",
   "pygments_lexer": "ipython3",
   "version": "3.7.3"
  }
 },
 "nbformat": 4,
 "nbformat_minor": 2
}
